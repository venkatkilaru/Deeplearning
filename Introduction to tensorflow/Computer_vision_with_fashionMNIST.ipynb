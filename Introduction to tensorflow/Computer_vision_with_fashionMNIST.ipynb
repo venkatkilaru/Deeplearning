{
  "nbformat": 4,
  "nbformat_minor": 0,
  "metadata": {
    "colab": {
      "name": "Computer_vision_with_fashionMNIST.ipynb",
      "provenance": [],
      "collapsed_sections": []
    },
    "kernelspec": {
      "name": "python3",
      "display_name": "Python 3"
    },
    "language_info": {
      "name": "python"
    }
  },
  "cells": [
    {
      "cell_type": "code",
      "execution_count": 1,
      "metadata": {
        "id": "26ZnbMhmtpKA"
      },
      "outputs": [],
      "source": [
        "import tensorflow as tf\n",
        "import numpy as numpy\n",
        "from tensorflow import keras"
      ]
    },
    {
      "cell_type": "code",
      "source": [
        "fmnist = keras.datasets.fashion_mnist"
      ],
      "metadata": {
        "id": "buhlZ99huc00"
      },
      "execution_count": 3,
      "outputs": []
    },
    {
      "cell_type": "markdown",
      "source": [
        "# loading data"
      ],
      "metadata": {
        "id": "2XNIdjzpu9ND"
      }
    },
    {
      "cell_type": "code",
      "source": [
        "(x_train,y_train) , (x_test,y_test) = fmnist.load_data()"
      ],
      "metadata": {
        "colab": {
          "base_uri": "https://localhost:8080/"
        },
        "id": "1BadC3P1u_Ku",
        "outputId": "09789037-607d-4536-f36a-471c2b53c269"
      },
      "execution_count": 4,
      "outputs": [
        {
          "output_type": "stream",
          "name": "stdout",
          "text": [
            "Downloading data from https://storage.googleapis.com/tensorflow/tf-keras-datasets/train-labels-idx1-ubyte.gz\n",
            "32768/29515 [=================================] - 0s 0us/step\n",
            "40960/29515 [=========================================] - 0s 0us/step\n",
            "Downloading data from https://storage.googleapis.com/tensorflow/tf-keras-datasets/train-images-idx3-ubyte.gz\n",
            "26427392/26421880 [==============================] - 0s 0us/step\n",
            "26435584/26421880 [==============================] - 0s 0us/step\n",
            "Downloading data from https://storage.googleapis.com/tensorflow/tf-keras-datasets/t10k-labels-idx1-ubyte.gz\n",
            "16384/5148 [===============================================================================================] - 0s 0us/step\n",
            "Downloading data from https://storage.googleapis.com/tensorflow/tf-keras-datasets/t10k-images-idx3-ubyte.gz\n",
            "4423680/4422102 [==============================] - 0s 0us/step\n",
            "4431872/4422102 [==============================] - 0s 0us/step\n"
          ]
        }
      ]
    },
    {
      "cell_type": "markdown",
      "source": [
        "# Visualising the image"
      ],
      "metadata": {
        "id": "9iXku267vpcX"
      }
    },
    {
      "cell_type": "code",
      "source": [
        "import matplotlib.pyplot as plt\n",
        "\n",
        "# You can put between 0 to 59999 here\n",
        "index = 69\n",
        "\n",
        "# Set number of characters per row when printing\n",
        "numpy.set_printoptions(linewidth=320)\n",
        "\n",
        "# Print the label and image\n",
        "print(f'LABEL: {y_train[index]}')\n",
        "print(f'\\nIMAGE PIXEL ARRAY:\\n {x_train[index]}')\n",
        "\n",
        "# Visualize the image\n",
        "plt.imshow(x_train[index])"
      ],
      "metadata": {
        "colab": {
          "base_uri": "https://localhost:8080/",
          "height": 849
        },
        "id": "Lf3XK1lQukg5",
        "outputId": "42b0d508-9110-4b07-a44a-f3eed4637d74"
      },
      "execution_count": 7,
      "outputs": [
        {
          "output_type": "stream",
          "name": "stdout",
          "text": [
            "LABEL: 1\n",
            "\n",
            "IMAGE PIXEL ARRAY:\n",
            " [[  0   0   0   0   0   0   0   0   0   0 105 170 170 170 158 146 143  86   0   0   0   0   0   0   0   0   0   0]\n",
            " [  0   0   0   0   0   0   0   0   0  11 185 181 193 206 178 181 186 188   0   0   0   0   0   0   0   0   0   0]\n",
            " [  0   0   0   0   0   0   0   0   0  33 195 153 160 173 160 160 155 196  45   0   0   0   0   0   0   0   0   0]\n",
            " [  0   0   0   0   0   0   0   0   0  81 188 158 181 196 178 180 160 188  85   0   0   0   0   0   0   0   0   0]\n",
            " [  0   0   0   0   0   0   0   0   0 116 183 168 180 213 186 176 180 190 105   0   0   0   0   0   0   0   0   0]\n",
            " [  0   0   0   0   0   0   0   0   0 120 171 155 165 191 173 165 165 193 110   0   0   0   0   0   0   0   0   0]\n",
            " [  0   0   0   0   0   0   0   0   0 106 181 155 156 243 238 156 156 181 110   0   0   0   0   0   0   0   0   0]\n",
            " [  0   0   0   0   0   0   0   0   0  76 193 146 176 141 163 198 155 195  83   0   0   0   0   0   0   0   0   0]\n",
            " [  0   0   0   0   0   0   0   0   0  46 201 145 208  78 101 210 156 201  40   0   0   0   0   0   0   0   0   0]\n",
            " [  0   0   0   0   0   0   0   0   0  38 208 160 221  76 110 225 166 206  35   0   0   0   0   0   0   0   0   0]\n",
            " [  0   0   0   0   0   0   0   0   0  33 211 158 226  51  86 231 165 200  25   0   0   0   0   0   0   0   0   0]\n",
            " [  0   0   0   0   0   0   0   0   0  20 210 158 235  41  68 235 163 196  11   0   0   0   0   0   0   0   0   0]\n",
            " [  0   0   0   0   0   0   0   0   0   0 211 173 228  26  46 245 171 191   0   0   0   0   0   0   0   0   0   0]\n",
            " [  0   0   0   0   0   0   0   0   0   0 205 173 231   8  33 250 170 176   0   0   0   0   0   0   0   0   0   0]\n",
            " [  0   0   0   0   0   0   0   0   0   0 198 171 226   0   8 251 173 165   0   0   0   0   0   0   0   0   0   0]\n",
            " [  0   0   0   0   0   0   0   0   0   0 191 173 228   0   0 255 180 161   0   0   0   0   0   0   0   0   0   0]\n",
            " [  0   0   0   0   0   0   0   0   0   0 173 175 238   0   0 255 188 168   0   0   0   0   0   0   0   0   0   0]\n",
            " [  0   0   0   0   0   0   0   0   0   0 168 176 235   0   0 250 191 171   0   0   0   0   0   0   0   0   0   0]\n",
            " [  0   0   0   0   0   0   0   0   0   0 165 180 226   0   0 246 190 171   0   0   0   0   0   0   0   0   0   0]\n",
            " [  0   0   0   0   0   0   0   0   0   0 165 186 220   0   0 238 183 166   0   0   0   0   0   0   0   0   0   0]\n",
            " [  0   0   0   0   0   0   0   0   0   0 151 195 218   0   0 233 195 171   0   0   0   0   0   0   0   0   0   0]\n",
            " [  0   0   0   0   0   0   0   0   0   0 148 193 211   0   0 228 200 178   0   0   0   0   0   0   0   0   0   0]\n",
            " [  0   0   0   0   0   0   0   0   0   0 145 196 205   0   0 221 206 186   0   0   0   0   0   0   0   0   0   0]\n",
            " [  0   0   0   0   0   0   0   0   0   0 146 201 206   0   0 215 211 191   0   0   0   0   0   0   0   0   0   0]\n",
            " [  0   0   0   0   0   0   0   0   0   0 140 200 208   0   0 208 218 203   0   0   0   0   0   0   0   0   0   0]\n",
            " [  0   0   0   0   0   0   0   0   0   0 145 206 200   0   0 211 226 188   0   0   0   0   0   0   0   0   0   0]\n",
            " [  0   0   0   0   0   0   0   0   0   0 148 213 211   0   0 206 235 181   0   0   0   0   0   0   0   0   0   0]\n",
            " [  0   0   0   0   0   0   0   0   0   0 130 196 180   0   0 176 218 156   0   0   0   0   0   0   0   0   0   0]]\n"
          ]
        },
        {
          "output_type": "execute_result",
          "data": {
            "text/plain": [
              "<matplotlib.image.AxesImage at 0x7f0600f44390>"
            ]
          },
          "metadata": {},
          "execution_count": 7
        },
        {
          "output_type": "display_data",
          "data": {
            "text/plain": [
              "<Figure size 432x288 with 1 Axes>"
            ],
            "image/png": "[encoded data removed]"
          },
          "metadata": {
            "needs_background": "light"
          }
        }
      ]
    },
    {
      "cell_type": "markdown",
      "source": [
        "# normalising the data"
      ],
      "metadata": {
        "id": "BXt-gWbsyw9b"
      }
    },
    {
      "cell_type": "code",
      "source": [
        "x_train = x_train/255\n",
        "x_test = x_test/255"
      ],
      "metadata": {
        "id": "p7xb0iwlv1HW"
      },
      "execution_count": 9,
      "outputs": []
    },
    {
      "cell_type": "code",
      "source": [
        "# building the model\n",
        "\n",
        "model = tf.keras.models.Sequential([tf.keras.layers.Flatten(),\n",
        "                                    tf.keras.layers.Dense(256, activation = tf.nn.relu),\n",
        "                                    tf.keras.layers.Dense(512 , activation = tf.nn.relu),\n",
        "                                    tf.keras.layers.Dense(1024,activation = tf.nn.relu),\n",
        "                                    tf.keras.layers.Dense(10 , activation = tf.nn.softmax)])"
      ],
      "metadata": {
        "id": "hZmFEvAyy6_o"
      },
      "execution_count": 27,
      "outputs": []
    },
    {
      "cell_type": "code",
      "source": [
        "model.compile(loss='sparse_categorical_crossentropy',\n",
        "              optimizer = tf.optimizers.Adam(),\n",
        "              metrics = ['Accuracy'])"
      ],
      "metadata": {
        "id": "yJvYWRjr0fa9"
      },
      "execution_count": 28,
      "outputs": []
    },
    {
      "cell_type": "code",
      "source": [
        "model.fit(x_train, y_train,epochs = 5)"
      ],
      "metadata": {
        "colab": {
          "base_uri": "https://localhost:8080/"
        },
        "id": "vJ58Uej83Fkk",
        "outputId": "b9282ab7-a86a-42dc-fac2-c62172f191b1"
      },
      "execution_count": 29,
      "outputs": [
        {
          "output_type": "stream",
          "name": "stdout",
          "text": [
            "Epoch 1/5\n",
            "1875/1875 [==============================] - 18s 9ms/step - loss: 0.7028 - Accuracy: 0.7348\n",
            "Epoch 2/5\n",
            "1875/1875 [==============================] - 18s 9ms/step - loss: 0.4597 - Accuracy: 0.8321\n",
            "Epoch 3/5\n",
            "1875/1875 [==============================] - 19s 10ms/step - loss: 0.4088 - Accuracy: 0.8493\n",
            "Epoch 4/5\n",
            "1875/1875 [==============================] - 18s 9ms/step - loss: 0.3745 - Accuracy: 0.8624\n",
            "Epoch 5/5\n",
            "1875/1875 [==============================] - 18s 10ms/step - loss: 0.3530 - Accuracy: 0.8688\n"
          ]
        },
        {
          "output_type": "execute_result",
          "data": {
            "text/plain": [
              "<keras.callbacks.History at 0x7f05fc06ebd0>"
            ]
          },
          "metadata": {},
          "execution_count": 29
        }
      ]
    },
    {
      "cell_type": "code",
      "source": [
        "model.evaluate(x_test, y_test)"
      ],
      "metadata": {
        "colab": {
          "base_uri": "https://localhost:8080/"
        },
        "id": "-VMJEtJZ3TBy",
        "outputId": "7e54a5c1-ce49-476d-c2c9-24d6c00ac4d7"
      },
      "execution_count": 30,
      "outputs": [
        {
          "output_type": "stream",
          "name": "stdout",
          "text": [
            "313/313 [==============================] - 1s 2ms/step - loss: 0.3966 - Accuracy: 0.8526\n"
          ]
        },
        {
          "output_type": "execute_result",
          "data": {
            "text/plain": [
              "[0.3966216742992401, 0.8525999784469604]"
            ]
          },
          "metadata": {},
          "execution_count": 30
        }
      ]
    },
    {
      "cell_type": "code",
      "source": [
        "results= model.predict(x_test)"
      ],
      "metadata": {
        "id": "i2qm4yK73pc-"
      },
      "execution_count": 31,
      "outputs": []
    },
    {
      "cell_type": "code",
      "source": [
        "print(results)"
      ],
      "metadata": {
        "colab": {
          "base_uri": "https://localhost:8080/"
        },
        "id": "YS4wvYhJ3zBR",
        "outputId": "608aca77-c1c8-4657-e617-0f401fe261d5"
      },
      "execution_count": 32,
      "outputs": [
        {
          "output_type": "stream",
          "name": "stdout",
          "text": [
            "[[1.6617626e-06 6.5444533e-06 5.9788924e-08 ... 1.4359363e-02 1.4224665e-05 9.8121464e-01]\n",
            " [2.2844535e-04 7.2684401e-07 9.8678422e-01 ... 1.0582647e-12 1.1442683e-06 6.0469407e-12]\n",
            " [7.8632894e-08 9.9999905e-01 7.5513968e-09 ... 2.4010713e-14 2.1480560e-08 2.8111716e-14]\n",
            " ...\n",
            " [5.0345818e-03 4.7348522e-06 2.3213228e-04 ... 1.6331354e-05 9.8825628e-01 1.4199145e-07]\n",
            " [5.4504692e-08 9.9998891e-01 1.9082945e-08 ... 1.0094318e-09 6.1244970e-07 3.4089773e-11]\n",
            " [1.6270787e-04 3.2206870e-05 1.9542307e-04 ... 1.3661113e-02 4.0411472e-04 1.4467792e-03]]\n"
          ]
        }
      ]
    },
    {
      "cell_type": "code",
      "source": [
        "results[0]"
      ],
      "metadata": {
        "colab": {
          "base_uri": "https://localhost:8080/"
        },
        "id": "yn_8FRqB4z65",
        "outputId": "ebf661b8-958c-45ed-aee5-e47f24325a96"
      },
      "execution_count": 33,
      "outputs": [
        {
          "output_type": "execute_result",
          "data": {
            "text/plain": [
              "array([1.6617626e-06, 6.5444533e-06, 5.9788924e-08, 8.1682686e-07, 9.3887706e-07, 4.3966286e-03, 5.1122279e-06, 1.4359363e-02, 1.4224665e-05, 9.8121464e-01], dtype=float32)"
            ]
          },
          "metadata": {},
          "execution_count": 33
        }
      ]
    },
    {
      "cell_type": "code",
      "source": [
        "y_test[0]"
      ],
      "metadata": {
        "colab": {
          "base_uri": "https://localhost:8080/"
        },
        "id": "7mnEYK_T5JT5",
        "outputId": "a881c876-34b2-4484-942f-68fbd8453d76"
      },
      "execution_count": 34,
      "outputs": [
        {
          "output_type": "execute_result",
          "data": {
            "text/plain": [
              "9"
            ]
          },
          "metadata": {},
          "execution_count": 34
        }
      ]
    },
    {
      "cell_type": "code",
      "source": [
        ""
      ],
      "metadata": {
        "id": "RodxmL3o5lXG"
      },
      "execution_count": null,
      "outputs": []
    }
  ]
}