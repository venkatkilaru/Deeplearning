{
  "nbformat": 4,
  "nbformat_minor": 0,
  "metadata": {
    "colab": {
      "name": "Computer_vision_MNIST.ipynb",
      "provenance": []
    },
    "kernelspec": {
      "name": "python3",
      "display_name": "Python 3"
    },
    "language_info": {
      "name": "python"
    }
  },
  "cells": [
    {
      "cell_type": "code",
      "execution_count": 2,
      "metadata": {
        "id": "yNJvAtBiqDxG"
      },
      "outputs": [],
      "source": [
        "import tensorflow as tf\n",
        "import numpy as np"
      ]
    },
    {
      "cell_type": "code",
      "source": [
        "from sklearn.metrics import confusion_matrix\n"
      ],
      "metadata": {
        "id": "HgtK4323yXro"
      },
      "execution_count": 22,
      "outputs": []
    },
    {
      "cell_type": "code",
      "source": [
        "class myCallback(tf.keras.callbacks.Callback):\n",
        "  def on_epoch_end(self, epochs,logs={}):\n",
        "    if(logs.get('accuracy')>0.99):\n",
        "      print(\"Reached the accuracy of 99 so stopping the training\")\n",
        "      self.model.stop_training = True"
      ],
      "metadata": {
        "id": "l2NuRZGtqZAW"
      },
      "execution_count": 7,
      "outputs": []
    },
    {
      "cell_type": "code",
      "source": [
        "\n",
        "callbacks = myCallback()\n",
        "\n",
        "mnist= tf.keras.datasets.mnist\n",
        "(x_train,y_train),(x_test,y_test)= mnist.load_data()\n",
        "\n",
        "x_train = x_train/255.0\n",
        "x_test = x_test/255.0\n",
        "\n",
        "model = tf.keras.models.Sequential([\n",
        "    tf.keras.layers.Flatten(),\n",
        "    tf.keras.layers.Dense(units = 128 , activation= tf.nn.relu),\n",
        "    tf.keras.layers.Dense(units = 512 , activation  = tf.nn.relu),\n",
        "    tf.keras.layers.Dense(units = 10 , activation = tf.nn.softmax),\n",
        "])\n",
        "\n",
        "model.compile(optimizer='adam',\n",
        "                loss= 'sparse_categorical_crossentropy',\n",
        "                metrics = ['accuracy'])\n",
        "  \n",
        "model.fit(x_train, y_train , epochs=10 , callbacks = [callbacks])\n"
      ],
      "metadata": {
        "colab": {
          "base_uri": "https://localhost:8080/"
        },
        "id": "FhT7tHO-rCIo",
        "outputId": "5fcd9e28-6efe-4995-add4-8b070c1406fc"
      },
      "execution_count": 14,
      "outputs": [
        {
          "output_type": "stream",
          "name": "stdout",
          "text": [
            "Epoch 1/10\n",
            "1875/1875 [==============================] - 7s 3ms/step - loss: 0.2186 - accuracy: 0.9340\n",
            "Epoch 2/10\n",
            "1875/1875 [==============================] - 6s 3ms/step - loss: 0.0918 - accuracy: 0.9717\n",
            "Epoch 3/10\n",
            "1875/1875 [==============================] - 6s 3ms/step - loss: 0.0661 - accuracy: 0.9791\n",
            "Epoch 4/10\n",
            "1875/1875 [==============================] - 6s 3ms/step - loss: 0.0496 - accuracy: 0.9843\n",
            "Epoch 5/10\n",
            "1875/1875 [==============================] - 6s 3ms/step - loss: 0.0396 - accuracy: 0.9872\n",
            "Epoch 6/10\n",
            "1875/1875 [==============================] - 6s 3ms/step - loss: 0.0311 - accuracy: 0.9899\n",
            "Epoch 7/10\n",
            "1862/1875 [============================>.] - ETA: 0s - loss: 0.0275 - accuracy: 0.9906Reached the accuracy of 99 so stopping the training\n",
            "1875/1875 [==============================] - 6s 3ms/step - loss: 0.0274 - accuracy: 0.9906\n"
          ]
        },
        {
          "output_type": "execute_result",
          "data": {
            "text/plain": [
              "<keras.callbacks.History at 0x7f48b92f0d90>"
            ]
          },
          "metadata": {},
          "execution_count": 14
        }
      ]
    },
    {
      "cell_type": "code",
      "source": [
        "model.evaluate(x_test, y_test)"
      ],
      "metadata": {
        "colab": {
          "base_uri": "https://localhost:8080/"
        },
        "id": "WuM2zdfUuNWp",
        "outputId": "19b4d125-9b33-4cc9-8108-eced1d29a805"
      },
      "execution_count": 16,
      "outputs": [
        {
          "output_type": "stream",
          "name": "stdout",
          "text": [
            "313/313 [==============================] - 1s 3ms/step - loss: 0.1016 - accuracy: 0.9759\n"
          ]
        },
        {
          "output_type": "execute_result",
          "data": {
            "text/plain": [
              "[0.10164982825517654, 0.9758999943733215]"
            ]
          },
          "metadata": {},
          "execution_count": 16
        }
      ]
    },
    {
      "cell_type": "code",
      "source": [
        "pred = model.predict(x_test)"
      ],
      "metadata": {
        "id": "JtIA5ZYpwkEr"
      },
      "execution_count": 17,
      "outputs": []
    },
    {
      "cell_type": "code",
      "source": [
        "pred[0]"
      ],
      "metadata": {
        "colab": {
          "base_uri": "https://localhost:8080/"
        },
        "id": "eg2G26jwxlQk",
        "outputId": "d329b123-1f91-4570-fb34-5608c086d7d8"
      },
      "execution_count": 18,
      "outputs": [
        {
          "output_type": "execute_result",
          "data": {
            "text/plain": [
              "array([1.8642177e-09, 2.5023834e-07, 1.5267061e-07, 8.7813781e-08,\n",
              "       1.2995392e-08, 1.7628121e-09, 1.0339626e-12, 9.9999368e-01,\n",
              "       3.9459014e-09, 5.8316400e-06], dtype=float32)"
            ]
          },
          "metadata": {},
          "execution_count": 18
        }
      ]
    },
    {
      "cell_type": "code",
      "source": [
        "y_test[0]"
      ],
      "metadata": {
        "colab": {
          "base_uri": "https://localhost:8080/"
        },
        "id": "x1AU6rJjxm14",
        "outputId": "bd273144-2fef-40a9-b955-fc1d7807c7d7"
      },
      "execution_count": 19,
      "outputs": [
        {
          "output_type": "execute_result",
          "data": {
            "text/plain": [
              "7"
            ]
          },
          "metadata": {},
          "execution_count": 19
        }
      ]
    },
    {
      "cell_type": "markdown",
      "source": [
        "Confusion matrix"
      ],
      "metadata": {
        "id": "5-QUsj8tyGbj"
      }
    },
    {
      "cell_type": "code",
      "source": [
        "from sklearn.metrics import confusion_matrix\n",
        "import numpy as np\n",
        "\n",
        "confusion = confusion_matrix(y_test, np.argmax(pred , axis=1))"
      ],
      "metadata": {
        "id": "K1ly3E02xsr4"
      },
      "execution_count": 30,
      "outputs": []
    },
    {
      "cell_type": "code",
      "source": [
        "print (confusion)"
      ],
      "metadata": {
        "colab": {
          "base_uri": "https://localhost:8080/"
        },
        "id": "QZL5MHIDyRr9",
        "outputId": "8c7d4d44-6f74-4d4c-87fd-013c5924d788"
      },
      "execution_count": 31,
      "outputs": [
        {
          "output_type": "stream",
          "name": "stdout",
          "text": [
            "[[ 976    0    1    0    0    0    3    0    0    0]\n",
            " [   4 1125    3    0    0    1    2    0    0    0]\n",
            " [   1    1 1020    1    1    0    2    4    1    1]\n",
            " [   2    1    2  994    0    3    0    3    1    4]\n",
            " [   1    0    1    0  955    0    8    1    1   15]\n",
            " [   2    0    0    9    1  873    2    1    1    3]\n",
            " [   7    2    1    1    3    6  938    0    0    0]\n",
            " [   2    6    8    2    1    0    0  994    1   14]\n",
            " [  20    0   23   10    2   11    7    2  889   10]\n",
            " [   0    3    0    2    4    3    0    2    0  995]]\n"
          ]
        }
      ]
    },
    {
      "cell_type": "code",
      "source": [
        ""
      ],
      "metadata": {
        "id": "Lsan2fPe0bSG"
      },
      "execution_count": null,
      "outputs": []
    }
  ]
}